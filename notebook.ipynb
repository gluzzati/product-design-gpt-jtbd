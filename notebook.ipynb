{
 "cells": [
  {
   "cell_type": "markdown",
   "metadata": {},
   "source": [
    "### Remove and recreate output folder"
   ]
  },
  {
   "cell_type": "code",
   "execution_count": null,
   "metadata": {},
   "outputs": [],
   "source": [
    "import os\n",
    "import shutil\n",
    "\n",
    "outdir = './output'\n",
    "\n",
    "if os.path.exists(outdir):\n",
    "    shutil.rmtree(outdir)\n",
    "    \n",
    "if not os.path.exists(outdir):\n",
    "    os.mkdir(outdir)"
   ]
  },
  {
   "cell_type": "markdown",
   "metadata": {},
   "source": [
    "### Discovery of Main Jobs and Job Performers"
   ]
  },
  {
   "cell_type": "code",
   "execution_count": null,
   "metadata": {},
   "outputs": [],
   "source": [
    "message = \"\"\"\n",
    "\n",
    "\"\"\"\n",
    "\n",
    "additional_prompt = \"\""
   ]
  },
  {
   "cell_type": "code",
   "execution_count": null,
   "metadata": {},
   "outputs": [],
   "source": [
    "from importlib import reload\n",
    "import autogen\n",
    "\n",
    "import lib.autogen.agents as this\n",
    "reload(this)\n",
    "\n",
    "\n",
    "groupchat = autogen.GroupChat(\n",
    "    agents=[\n",
    "        this.user,\n",
    "        this.job_developer,\n",
    "        this.critic_agent,\n",
    "    ],\n",
    "    messages=[],\n",
    "    max_round=10\n",
    ")\n",
    "\n",
    "manager = autogen.GroupChatManager(groupchat=groupchat, llm_config=this.gpt4_config)\n",
    "\n",
    "res = this.user.initiate_chat(\n",
    "    manager,\n",
    "    message=message\n",
    ")"
   ]
  },
  {
   "cell_type": "code",
   "execution_count": null,
   "metadata": {},
   "outputs": [],
   "source": [
    "import re\n",
    "import pandas as pd\n",
    "\n",
    "filtered_items = [item for item in res.chat_history if item.get('name') == 'Job_Developer']\n",
    "\n",
    "pattern = r'```\\w*\\n(.*?)```'\n",
    "matches = re.findall(pattern, filtered_items[-1]['content'], re.DOTALL)\n",
    "\n",
    "with open(\"./output/performers_and_jobs.csv\", 'w') as file:\n",
    "    file.write(matches[0])\n",
    "\n",
    "performers_and_jobs = pd.read_csv(\"./output/performers_and_jobs.csv\", delimiter=';', index_col=False)\n",
    "\n",
    "performers_and_jobs\n"
   ]
  },
  {
   "cell_type": "code",
   "execution_count": null,
   "metadata": {},
   "outputs": [],
   "source": [
    "import pandas as pd\n",
    "\n",
    "performers_and_jobs = pd.read_csv(\"./output/performers_and_jobs.csv\", delimiter=';', index_col=False)\n",
    "\n",
    "try:\n",
    "    performers_and_jobs = performers_and_jobs.rename(columns={'Role': 'Job Performer'})\n",
    "except:\n",
    "    pass\n",
    "\n",
    "all_performers_and_jobs = pd.read_csv(\"./output/all_performers_and_jobs.csv\", delimiter=';', index_col=False)\n",
    "\n",
    "all_performers_and_jobs = pd.concat([all_performers_and_jobs, performers_and_jobs], ignore_index=True)\n",
    "all_performers_and_jobs = all_performers_and_jobs.sort_values(by=all_performers_and_jobs.columns[0])\n",
    "all_performers_and_jobs.to_csv(\"./output/all_performers_and_jobs.csv\", sep=';', index=False)\n",
    "\n",
    "all_performers_and_jobs"
   ]
  },
  {
   "cell_type": "code",
   "execution_count": null,
   "metadata": {},
   "outputs": [],
   "source": [
    "all_performers_and_jobs"
   ]
  },
  {
   "cell_type": "markdown",
   "metadata": {},
   "source": [
    "### Rate the different possible markets (aka Job_Performers + jobs) using Disciplined Enterpreneur book"
   ]
  },
  {
   "cell_type": "code",
   "execution_count": null,
   "metadata": {},
   "outputs": [],
   "source": [
    "import pandas as pd\n",
    "\n",
    "performers_and_jobs = pd.read_csv(\"./output/all_performers_and_jobs.csv\", delimiter=';', index_col=False)\n",
    "\n",
    "message = f\"\"\"\n",
    "Here the Job Performers list:\n",
    "{';'.join(list(performers_and_jobs['Job Performer'].unique()))}\n",
    "\"\"\""
   ]
  },
  {
   "cell_type": "code",
   "execution_count": null,
   "metadata": {},
   "outputs": [],
   "source": [
    "from importlib import reload\n",
    "import autogen\n",
    "\n",
    "import lib.autogen.agents as this\n",
    "reload(this)\n",
    "\n",
    "\n",
    "groupchat = autogen.GroupChat(\n",
    "    agents=[\n",
    "        this.user,\n",
    "        this.business_expert,\n",
    "        this.critic_agent,\n",
    "    ],\n",
    "    messages=[],\n",
    "    max_round=10\n",
    ")\n",
    "\n",
    "manager = autogen.GroupChatManager(groupchat=groupchat, llm_config=this.gpt4_config)\n",
    "\n",
    "res = this.user.initiate_chat(\n",
    "    manager,\n",
    "    message=message\n",
    ")"
   ]
  },
  {
   "cell_type": "code",
   "execution_count": null,
   "metadata": {},
   "outputs": [],
   "source": [
    "import re\n",
    "\n",
    "filtered_items = [item for item in res.chat_history if item.get('name') == 'Business_Expert']\n",
    "\n",
    "pattern = r'```\\w*\\n(.*?)```'\n",
    "matches = re.findall(pattern, filtered_items[-1]['content'], re.DOTALL)\n",
    "\n",
    "with open(\"./output/performers_scores.csv\", 'w') as file:\n",
    "    file.write(matches[0])\n",
    "\n",
    "performers_scores = pd.read_csv(\"./output/performers_scores.csv\", delimiter=';', index_col=False)\n",
    "\n",
    "performers_scores.sort_values('Total Score',ascending=False)\n"
   ]
  },
  {
   "cell_type": "markdown",
   "metadata": {},
   "source": [
    "### Synthesis of Job Performers"
   ]
  },
  {
   "cell_type": "code",
   "execution_count": null,
   "metadata": {},
   "outputs": [],
   "source": [
    "selected_job_performers = \"\"\n",
    "selected_main_job = \"\"\n",
    "number = \"5\"\n",
    "additional_prompt   = \"\""
   ]
  },
  {
   "cell_type": "code",
   "execution_count": null,
   "metadata": {},
   "outputs": [],
   "source": [
    "from importlib import reload\n",
    "import autogen\n",
    "\n",
    "import lib.autogen.agents as this\n",
    "reload(this)\n",
    "\n",
    "groupchat = autogen.GroupChat(\n",
    "    agents=[\n",
    "        this.user,\n",
    "        this.performer_generator,\n",
    "        this.critic_agent,\n",
    "    ], \n",
    "    messages=[], \n",
    "    max_round=10\n",
    ")\n",
    "\n",
    "manager = autogen.GroupChatManager(groupchat=groupchat, llm_config=this.gpt4_config)\n",
    "\n",
    "res = this.user.initiate_chat(\n",
    "    manager,\n",
    "    message=f\"\"\"\n",
    "\n",
    "Generate {number}\n",
    "\n",
    "Job Performers: {selected_job_performers}\n",
    "In which their Main Job is {selected_main_job}\n",
    "\"\"\"\n",
    ")\n"
   ]
  },
  {
   "cell_type": "code",
   "execution_count": null,
   "metadata": {},
   "outputs": [],
   "source": [
    "import re\n",
    "\n",
    "filtered_items = [item for item in res.chat_history if item.get('name') == 'Performer_generator']\n",
    "\n",
    "pattern = r'```\\w*\\n(.*?)```'\n",
    "matches = re.findall(pattern, filtered_items[-1]['content'], re.DOTALL)\n",
    "\n",
    "with open(\"./output/performers.csv\", 'w') as file:\n",
    "    file.write(matches[0])\n",
    "\n",
    "performers = pd.read_csv(\"./output/performers.csv\", delimiter=';', index_col=False)\n",
    "\n",
    "performers"
   ]
  },
  {
   "cell_type": "markdown",
   "metadata": {},
   "source": [
    "### Automated Interviews"
   ]
  },
  {
   "cell_type": "code",
   "execution_count": null,
   "metadata": {},
   "outputs": [],
   "source": [
    "import pandas as pd\n",
    "\n",
    "performers = pd.read_csv('./output/performers.csv',delimiter=';', index_col=False)"
   ]
  },
  {
   "cell_type": "code",
   "execution_count": null,
   "metadata": {},
   "outputs": [],
   "source": [
    "import json\n",
    "\n",
    "from importlib import reload\n",
    "\n",
    "import lib.interview_performers as this\n",
    "reload(this)\n",
    "\n",
    "interviews = []\n",
    "for index, row in performers.iterrows():\n",
    "    performer = row.to_json()\n",
    "\n",
    "    main_job_related = f\"\"\"Answer the following question focusing and thinking about the main job {selected_main_job} applied to what you are doing as {row['Profession']}.\n",
    "    If the main job {selected_main_job} is not related to you, simply answer \\\"This is not my main job\\\" and skip the question.\"\"\"\n",
    "\n",
    "    # main_job_related = \"\"\n",
    "\n",
    "    res = this.chain.invoke({\"job_performer\": performer, \"main_job_related\": main_job_related})\n",
    "    res_dict = json.loads(res.additional_kwargs['function_call']['arguments'])\n",
    "    \n",
    "    interview = pd.DataFrame(res_dict[\"interview\"])\n",
    "    \n",
    "    job_performer_dict = row.to_dict()\n",
    "\n",
    "    job_performer_dict.update({\"interview\": interview})\n",
    "\n",
    "    interviews.append(job_performer_dict)"
   ]
  },
  {
   "cell_type": "code",
   "execution_count": null,
   "metadata": {},
   "outputs": [],
   "source": [
    "import os\n",
    "import json\n",
    "import copy\n",
    "\n",
    "outdir = './output/interviews'\n",
    "if not os.path.exists(outdir):\n",
    "    os.mkdir(outdir)\n",
    "\n",
    "interviews_to_save = copy.deepcopy(interviews)\n",
    "\n",
    "for interview in interviews_to_save:\n",
    "    filename = os.path.join(outdir,\"_\".join((\n",
    "        interview[\"Name\"].replace(\" \", \"\"),\n",
    "        interview[\"Profession\"].replace(\" \", \"\"),\n",
    "        ))+\".json\")\n",
    "\n",
    "    interview[\"interview\"] = interview[\"interview\"].to_dict(orient='records') \n",
    "\n",
    "    with open(filename, 'w') as json_file:\n",
    "        json.dump(interview, json_file)\n",
    "\n",
    "del interviews_to_save"
   ]
  },
  {
   "cell_type": "markdown",
   "metadata": {},
   "source": [
    "### Analyze Interviews"
   ]
  },
  {
   "cell_type": "code",
   "execution_count": null,
   "metadata": {},
   "outputs": [],
   "source": [
    "import os\n",
    "import json\n",
    "\n",
    "outdir = './output/interviews'\n",
    "\n",
    "# Initialize an empty list to store the data\n",
    "interviews_to_analyze = []\n",
    "\n",
    "# Loop through each file in the folder\n",
    "for filename in os.listdir(outdir):\n",
    "    if filename.endswith('.json'):\n",
    "        file_path = os.path.join(outdir, filename)\n",
    "        with open(file_path, 'r') as file:\n",
    "            # Load the JSON data from the file\n",
    "            json_data = json.load(file)\n",
    "            # Append the data to the list\n",
    "            interviews_to_analyze.append(json_data)"
   ]
  },
  {
   "cell_type": "code",
   "execution_count": null,
   "metadata": {},
   "outputs": [],
   "source": [
    "from importlib import reload\n",
    "import autogen\n",
    "\n",
    "import lib.autogen.agents as this\n",
    "reload(this)\n",
    "\n",
    "groupchat = autogen.GroupChat(\n",
    "    agents=[\n",
    "        this.user,\n",
    "        this.jtbd_analyzer,\n",
    "        this.critic_agent,\n",
    "    ], \n",
    "    messages=[], \n",
    "    max_round=10\n",
    ")\n",
    "\n",
    "manager = autogen.GroupChatManager(groupchat=groupchat, llm_config=this.gpt4_config)\n",
    "\n",
    "res = this.user.initiate_chat(\n",
    "    manager,\n",
    "    message=f\"\"\"\n",
    "Analyse the following interviews using JTBD framework\n",
    "{interviews_to_analyze}\n",
    "\"\"\"\n",
    ")"
   ]
  },
  {
   "cell_type": "code",
   "execution_count": null,
   "metadata": {},
   "outputs": [],
   "source": [
    "import re\n",
    "import pandas as pd\n",
    "\n",
    "filtered_items = [item for item in res.chat_history if item.get('name') == 'JTBD_Analyzer']\n",
    "\n",
    "pattern = r'```\\w*\\n(.*?)```'\n",
    "matches = re.findall(pattern, filtered_items[-1]['content'], re.DOTALL)\n",
    "\n",
    "with open(\"./output/analysis.csv\", 'w') as file:\n",
    "    file.write(matches[0])\n",
    "\n",
    "analysis = pd.read_csv(\"./output/analysis.csv\", delimiter=';', index_col=False)\n",
    "\n",
    "analysis"
   ]
  },
  {
   "cell_type": "markdown",
   "metadata": {},
   "source": [
    "### Categorize Interviews"
   ]
  },
  {
   "cell_type": "code",
   "execution_count": null,
   "metadata": {},
   "outputs": [],
   "source": [
    "import pandas as pd\n",
    "\n",
    "analysis = pd.read_csv(\"./output/analysis.csv\", delimiter=';', index_col=False)"
   ]
  },
  {
   "cell_type": "code",
   "execution_count": null,
   "metadata": {},
   "outputs": [],
   "source": [
    "from importlib import reload\n",
    "import autogen\n",
    "\n",
    "import lib.autogen.agents as this\n",
    "\n",
    "reload(this)\n",
    "\n",
    "groupchat = autogen.GroupChat(\n",
    "    agents=[\n",
    "        this.user,\n",
    "        this.critic_agent,\n",
    "        this.jtbd_categorizer,\n",
    "    ], \n",
    "    messages=[], \n",
    "    max_round=10\n",
    ")\n",
    "\n",
    "manager = autogen.GroupChatManager(groupchat=groupchat, llm_config=this.gpt4_config)\n",
    "\n",
    "res = this.user.initiate_chat(\n",
    "    manager,\n",
    "    message=f\"\"\"\n",
    "\n",
    "The main job is {selected_main_job} while the steps are:\n",
    "\n",
    "{analysis}\n",
    "\n",
    "\"\"\"\n",
    ")"
   ]
  },
  {
   "cell_type": "code",
   "execution_count": null,
   "metadata": {},
   "outputs": [],
   "source": [
    "import re\n",
    "\n",
    "filtered_items = [item for item in res.chat_history if item.get('name') == 'JTBD_Categorizer']\n",
    "\n",
    "pattern = r'```\\w*\\n(.*?)```'\n",
    "matches = re.findall(pattern, filtered_items[-1]['content'], re.DOTALL)\n",
    "\n",
    "with open(\"./output/category.csv\", 'w') as file:\n",
    "    file.write(matches[0])\n",
    "\n",
    "category = pd.read_csv(\"./output/category.csv\", delimiter=';', index_col=False)\n",
    "\n",
    "custom_order = [\n",
    "    'Define',\n",
    "    'Locate',\n",
    "    'Prepare',\n",
    "    'Confirm',\n",
    "    'Execute',\n",
    "    'Monitor',\n",
    "    'Modify',\n",
    "    'Conclude'\n",
    "]\n",
    "\n",
    "category['Category'] = pd.Categorical(category['Category'], categories=custom_order, ordered=True)\n",
    "category_sorted = category.sort_values('Category').reset_index(drop=True)\n",
    "\n",
    "category_sorted.to_csv(\"./output/category.csv\", sep=';')"
   ]
  },
  {
   "cell_type": "markdown",
   "metadata": {},
   "source": [
    "### Find Solutions"
   ]
  },
  {
   "cell_type": "code",
   "execution_count": null,
   "metadata": {},
   "outputs": [],
   "source": [
    "import pandas as pd\n",
    "\n",
    "category_sorted = pd.read_csv(\"./output/category.csv\", delimiter=';', index_col=False)\n",
    "category_sorted\n"
   ]
  },
  {
   "cell_type": "code",
   "execution_count": null,
   "metadata": {},
   "outputs": [],
   "source": [
    "\n",
    "from importlib import reload\n",
    "import autogen\n",
    "\n",
    "import lib.autogen.agents as this\n",
    "\n",
    "reload(this)\n",
    "\n",
    "groupchat = autogen.GroupChat(\n",
    "    agents=[\n",
    "        this.user,\n",
    "        this.planner,\n",
    "        this.solution_generator,\n",
    "        this.digital_product_designer,\n",
    "        this.critic_agent,\n",
    "    ], \n",
    "    messages=[], \n",
    "    max_round=10\n",
    ")\n",
    "\n",
    "\n",
    "manager = autogen.GroupChatManager(groupchat=groupchat, llm_config=this.gpt4_config)\n",
    "\n",
    "res = this.user.initiate_chat(\n",
    "    manager,\n",
    "    message=f\"\"\"\n",
    "\n",
    "We run a Jobs-to-be-done Analysis. Here the information:\n",
    "\n",
    "Job Performer: {selected_job_performers}\n",
    "\n",
    "Main Jobs: {selected_main_job}\n",
    "\n",
    "Job Steps and Needs:\n",
    "{category_sorted[[\"Job Step\", \"Need\"]]}\n",
    "\"\"\"\n",
    ")"
   ]
  },
  {
   "cell_type": "code",
   "execution_count": null,
   "metadata": {},
   "outputs": [],
   "source": [
    "import re\n",
    "import json\n",
    "\n",
    "filtered_items = [item for item in res.chat_history if item.get('name') == 'Digital_Product_Designer']\n",
    "\n",
    "pattern = r'```json\\n(.*?)```'\n",
    "matches = re.findall(pattern, filtered_items[-1]['content'], re.DOTALL)\n",
    "\n",
    "\n",
    "solutions = json.loads(matches[0])[0]\n",
    "\n",
    "with open(\"./output/solutions.json\", 'w') as file:\n",
    "    json.dump(solutions, file, indent=4)\n"
   ]
  },
  {
   "cell_type": "markdown",
   "metadata": {},
   "source": [
    "### Create Narrative for Landing Pages"
   ]
  },
  {
   "cell_type": "code",
   "execution_count": null,
   "metadata": {},
   "outputs": [],
   "source": [
    "import json\n",
    "\n",
    "with open(\"./output/solutions.json\") as file:\n",
    "    solutions = json.load(file)"
   ]
  },
  {
   "cell_type": "code",
   "execution_count": null,
   "metadata": {},
   "outputs": [],
   "source": [
    "\n",
    "from importlib import reload\n",
    "import autogen\n",
    "\n",
    "import lib.autogen.agents as this\n",
    "\n",
    "reload(this)\n",
    "\n",
    "groupchat = autogen.GroupChat(\n",
    "    agents=[\n",
    "        this.user,\n",
    "        this.storybrand_expert,\n",
    "        this.critic_agent,\n",
    "        this.copywriting_expert\n",
    "    ], \n",
    "    messages=[], \n",
    "    max_round=10\n",
    ")\n",
    "\n",
    "\n",
    "manager = autogen.GroupChatManager(groupchat=groupchat, llm_config=this.gpt4_config)\n",
    "\n",
    "res = this.user.initiate_chat(\n",
    "    manager,\n",
    "    message=f\"\"\"\n",
    "\n",
    "Here the document describing the solutions and the problem that comes from JTBD.\n",
    "\n",
    "{solutions}\n",
    "\"\"\"\n",
    ")\n",
    "\n"
   ]
  }
 ],
 "metadata": {
  "kernelspec": {
   "display_name": ".venv",
   "language": "python",
   "name": "python3"
  },
  "language_info": {
   "codemirror_mode": {
    "name": "ipython",
    "version": 3
   },
   "file_extension": ".py",
   "mimetype": "text/x-python",
   "name": "python",
   "nbconvert_exporter": "python",
   "pygments_lexer": "ipython3",
   "version": "3.11.9"
  }
 },
 "nbformat": 4,
 "nbformat_minor": 2
}
